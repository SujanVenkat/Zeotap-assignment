{
  "nbformat": 4,
  "nbformat_minor": 0,
  "metadata": {
    "colab": {
      "provenance": []
    },
    "kernelspec": {
      "name": "python3",
      "display_name": "Python 3"
    },
    "language_info": {
      "name": "python"
    }
  },
  "cells": [
    {
      "cell_type": "code",
      "execution_count": 1,
      "metadata": {
        "id": "sX9mVeF0luKs"
      },
      "outputs": [],
      "source": [
        "from sklearn.metrics.pairwise import cosine_similarity\n",
        "from sklearn.preprocessing import StandardScaler\n",
        "import pandas as pd\n",
        "import numpy as np\n"
      ]
    },
    {
      "cell_type": "code",
      "source": [
        "# Load the datasets\n",
        "customers = pd.read_csv('Customers.csv')\n",
        "products = pd.read_csv('Products.csv')\n",
        "transactions = pd.read_csv('Transactions.csv')\n",
        "\n",
        "# Merge transactions with products\n",
        "transactions_products = transactions.merge(products, on='ProductID')\n",
        "\n",
        "# Merge the above with customers\n",
        "data = transactions_products.merge(customers, on='CustomerID')\n",
        "\n",
        "# Preview the merged dataset\n",
        "print(data.head())\n"
      ],
      "metadata": {
        "colab": {
          "base_uri": "https://localhost:8080/"
        },
        "id": "9sZx0XO5mQBW",
        "outputId": "1ee69a12-04bc-468a-90ea-63507fed27c9"
      },
      "execution_count": 2,
      "outputs": [
        {
          "output_type": "stream",
          "name": "stdout",
          "text": [
            "  TransactionID CustomerID ProductID      TransactionDate  Quantity  \\\n",
            "0        T00001      C0199      P067  2024-08-25 12:38:23         1   \n",
            "1        T00112      C0146      P067  2024-05-27 22:23:54         1   \n",
            "2        T00166      C0127      P067  2024-04-25 07:38:55         1   \n",
            "3        T00272      C0087      P067  2024-03-26 22:55:37         2   \n",
            "4        T00363      C0070      P067  2024-03-21 15:10:10         3   \n",
            "\n",
            "   TotalValue  Price_x                      ProductName     Category  Price_y  \\\n",
            "0      300.68   300.68  ComfortLiving Bluetooth Speaker  Electronics   300.68   \n",
            "1      300.68   300.68  ComfortLiving Bluetooth Speaker  Electronics   300.68   \n",
            "2      300.68   300.68  ComfortLiving Bluetooth Speaker  Electronics   300.68   \n",
            "3      601.36   300.68  ComfortLiving Bluetooth Speaker  Electronics   300.68   \n",
            "4      902.04   300.68  ComfortLiving Bluetooth Speaker  Electronics   300.68   \n",
            "\n",
            "      CustomerName         Region  SignupDate  \n",
            "0   Andrea Jenkins         Europe  2022-12-03  \n",
            "1  Brittany Harvey           Asia  2024-09-04  \n",
            "2  Kathryn Stevens         Europe  2024-04-04  \n",
            "3  Travis Campbell  South America  2024-04-11  \n",
            "4    Timothy Perez         Europe  2022-03-15  \n"
          ]
        }
      ]
    },
    {
      "cell_type": "markdown",
      "source": [
        "**Step 2: Feature Engineering**"
      ],
      "metadata": {
        "id": "rPf-VxFzmdwy"
      }
    },
    {
      "cell_type": "code",
      "source": [
        "# Display the columns in the merged DataFrame\n",
        "print(data.columns)\n"
      ],
      "metadata": {
        "colab": {
          "base_uri": "https://localhost:8080/"
        },
        "id": "RnRo-gH0mbI-",
        "outputId": "a6eb4309-e8d2-4b64-f5d0-16c7c5544366"
      },
      "execution_count": 4,
      "outputs": [
        {
          "output_type": "stream",
          "name": "stdout",
          "text": [
            "Index(['TransactionID', 'CustomerID', 'ProductID', 'TransactionDate',\n",
            "       'Quantity', 'TotalValue', 'Price_x', 'ProductName', 'Category',\n",
            "       'Price_y', 'CustomerName', 'Region', 'SignupDate'],\n",
            "      dtype='object')\n"
          ]
        }
      ]
    },
    {
      "cell_type": "code",
      "source": [
        "# Rename Price_y to Price\n",
        "data.rename(columns={'Price_y': 'Price'}, inplace=True)\n"
      ],
      "metadata": {
        "id": "nArrUzCunKfW"
      },
      "execution_count": 5,
      "outputs": []
    },
    {
      "cell_type": "code",
      "source": [
        "# Aggregating transaction features\n",
        "customer_features = data.groupby('CustomerID').agg({\n",
        "    'TotalValue': ['sum', 'mean'],\n",
        "    'Quantity': 'sum',\n",
        "    'Price': 'mean'\n",
        "}).reset_index()\n",
        "\n",
        "# Rename columns for clarity\n",
        "customer_features.columns = ['CustomerID', 'TotalSpend', 'AvgTransactionValue', 'TotalQuantity', 'AvgPrice']\n",
        "\n",
        "# Merge customer profile data\n",
        "customer_features = customer_features.merge(customers, on='CustomerID')\n",
        "\n",
        "# Convert categorical columns (like Region) to numeric\n",
        "customer_features = pd.get_dummies(customer_features, columns=['Region'], drop_first=True)\n",
        "\n",
        "# Preview the features\n",
        "print(customer_features.head())\n"
      ],
      "metadata": {
        "colab": {
          "base_uri": "https://localhost:8080/"
        },
        "id": "z83JOqKlnKED",
        "outputId": "6e7a7edb-82c4-4621-d876-30efde8b8c1e"
      },
      "execution_count": 6,
      "outputs": [
        {
          "output_type": "stream",
          "name": "stdout",
          "text": [
            "  CustomerID  TotalSpend  AvgTransactionValue  TotalQuantity    AvgPrice  \\\n",
            "0      C0001     3354.52              670.904             12  278.334000   \n",
            "1      C0002     1862.74              465.685             10  208.920000   \n",
            "2      C0003     2725.38              681.345             14  195.707500   \n",
            "3      C0004     5354.88              669.360             23  240.636250   \n",
            "4      C0005     2034.24              678.080              7  291.603333   \n",
            "\n",
            "         CustomerName  SignupDate  Region_Europe  Region_North America  \\\n",
            "0    Lawrence Carroll  2022-07-10          False                 False   \n",
            "1      Elizabeth Lutz  2022-02-13          False                 False   \n",
            "2      Michael Rivera  2024-03-07          False                 False   \n",
            "3  Kathleen Rodriguez  2022-10-09          False                 False   \n",
            "4         Laura Weber  2022-08-15          False                 False   \n",
            "\n",
            "   Region_South America  \n",
            "0                  True  \n",
            "1                 False  \n",
            "2                  True  \n",
            "3                  True  \n",
            "4                 False  \n"
          ]
        }
      ]
    },
    {
      "cell_type": "code",
      "source": [
        "print(customer_features.head())\n"
      ],
      "metadata": {
        "colab": {
          "base_uri": "https://localhost:8080/"
        },
        "id": "Y5xH3kh7nRi3",
        "outputId": "9e7bc7ef-d4fe-403b-b2d2-9a766b094aaa"
      },
      "execution_count": 7,
      "outputs": [
        {
          "output_type": "stream",
          "name": "stdout",
          "text": [
            "  CustomerID  TotalSpend  AvgTransactionValue  TotalQuantity    AvgPrice  \\\n",
            "0      C0001     3354.52              670.904             12  278.334000   \n",
            "1      C0002     1862.74              465.685             10  208.920000   \n",
            "2      C0003     2725.38              681.345             14  195.707500   \n",
            "3      C0004     5354.88              669.360             23  240.636250   \n",
            "4      C0005     2034.24              678.080              7  291.603333   \n",
            "\n",
            "         CustomerName  SignupDate  Region_Europe  Region_North America  \\\n",
            "0    Lawrence Carroll  2022-07-10          False                 False   \n",
            "1      Elizabeth Lutz  2022-02-13          False                 False   \n",
            "2      Michael Rivera  2024-03-07          False                 False   \n",
            "3  Kathleen Rodriguez  2022-10-09          False                 False   \n",
            "4         Laura Weber  2022-08-15          False                 False   \n",
            "\n",
            "   Region_South America  \n",
            "0                  True  \n",
            "1                 False  \n",
            "2                  True  \n",
            "3                  True  \n",
            "4                 False  \n"
          ]
        }
      ]
    },
    {
      "cell_type": "markdown",
      "source": [
        "**Step 3: Compute Similarity**"
      ],
      "metadata": {
        "id": "4cY4MlQrnbiz"
      }
    },
    {
      "cell_type": "code",
      "source": [
        "# Normalize numerical features\n",
        "scaler = StandardScaler()\n",
        "numerical_cols = ['TotalSpend', 'AvgTransactionValue', 'TotalQuantity', 'AvgPrice']\n",
        "customer_features[numerical_cols] = scaler.fit_transform(customer_features[numerical_cols])\n"
      ],
      "metadata": {
        "id": "CoU396GDnVRg"
      },
      "execution_count": 8,
      "outputs": []
    },
    {
      "cell_type": "code",
      "source": [
        "# Extract feature matrix for similarity computation\n",
        "feature_matrix = customer_features.drop(['CustomerID', 'CustomerName', 'SignupDate'], axis=1)\n",
        "\n",
        "# Compute cosine similarity\n",
        "similarity_matrix = cosine_similarity(feature_matrix)\n",
        "\n",
        "# Convert similarity matrix to a DataFrame\n",
        "similarity_df = pd.DataFrame(similarity_matrix, index=customer_features['CustomerID'], columns=customer_features['CustomerID'])\n"
      ],
      "metadata": {
        "id": "O22CHSI5ngM2"
      },
      "execution_count": 9,
      "outputs": []
    },
    {
      "cell_type": "markdown",
      "source": [
        "**Step 4: Generate Lookalike Recommendations**"
      ],
      "metadata": {
        "id": "h3qL5SrtnnYe"
      }
    },
    {
      "cell_type": "code",
      "source": [
        "# Function to get top 3 similar customers\n",
        "def get_top_similar_customers(similarity_df, customer_id, top_n=3):\n",
        "    similar_customers = similarity_df.loc[customer_id].sort_values(ascending=False).iloc[1:top_n+1]\n",
        "    return [(idx, score) for idx, score in similar_customers.items()]\n",
        "\n",
        "# Generate recommendations for customers C0001 - C0020\n",
        "lookalike_results = {}\n",
        "for customer_id in customer_features['CustomerID'].iloc[:20]:\n",
        "    lookalike_results[customer_id] = get_top_similar_customers(similarity_df, customer_id)\n",
        "\n",
        "# Convert results to a DataFrame\n",
        "lookalike_df = pd.DataFrame.from_dict(lookalike_results, orient='index', columns=['Similar1', 'Similar2', 'Similar3'])\n",
        "\n",
        "# Save results to CSV\n",
        "lookalike_df.to_csv('Ramteja Reddy_Lookalike.csv', index_label='CustomerID')\n",
        "\n",
        "print(\"Lookalike recommendations saved to 'Ramteja Reddy_Lookalike.csv'\")\n"
      ],
      "metadata": {
        "colab": {
          "base_uri": "https://localhost:8080/"
        },
        "id": "mlcIpKO-nnE2",
        "outputId": "92b50486-2c06-4488-f693-95aea7ff9c11"
      },
      "execution_count": 11,
      "outputs": [
        {
          "output_type": "stream",
          "name": "stdout",
          "text": [
            "Lookalike recommendations saved to 'Ramteja Reddy_Lookalike.csv'\n"
          ]
        }
      ]
    }
  ]
}